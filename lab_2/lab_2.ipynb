{
 "cells": [
  {
   "cell_type": "markdown",
   "metadata": {},
   "source": [
    "# Задание \n",
    "Аристова, Завьялова, Лобанов, `II.10.6`, вариант `о`.\n",
    "\n",
    "$$\n",
    "\\begin{equation}\n",
    "  \\left\\{ \n",
    "    \\begin{aligned} \n",
    "      ax_1 + x_2 + x_3 / b = 1          \\\\\n",
    "      x_1  + ax_2 + x_3 + x_4 / b = 2   \\\\\n",
    "              x_2 + x_3 + x_4 / b = 3 \\\\\n",
    "              \\ldots\\\\\n",
    "      x_{m - 1} + ax_m + x_{m+1} + x_{m + 2} / b = m\\\\\n",
    "              \\ldots \\\\\n",
    "      x_{n - 1} + ax_{n} = n\\\\\n",
    "    \\end{aligned} \n",
    "  \\right.\n",
    "\\end{equation}\n",
    "$$\n",
    "\n",
    "with $n = 100$, $a = b = 10$\n"
   ]
  },
  {
   "cell_type": "markdown",
   "metadata": {},
   "source": [
    "# Решение\n",
    "\n"
   ]
  },
  {
   "cell_type": "code",
   "execution_count": 27,
   "metadata": {},
   "outputs": [
    {
     "name": "stdout",
     "output_type": "stream",
     "text": [
      "Неувязка для аналитического решения:  6.957936963747176e-14\n",
      "Неувязка для итерационного решения:  8.689832922017065e-07\n",
      "Число обусловленности матрицы mu =  1.4991943334502218\n",
      "lambda_max =  11.999032564583974 \n",
      "lambda_min =  8.000967435416026\n",
      "\n",
      "\n",
      "\n",
      "\n",
      "Аналитическое решение:\n",
      " [0.08114061881585005, 0.16393716688650095, 0.24656644954998497, 0.329212627691554, 0.4118570992209515, 0.4945017431352375, 0.5771463696369266, 0.6597909978974621, 0.7424356259803365, 0.8250802540811565, 0.9077248821801637, 0.9903695102793542, 1.0730141383785259, 1.1556587664776996, 1.238303394576873, 1.3209480226760468, 1.4035926507752203, 1.4862372788743938, 1.5688819069735673, 1.6515265350727408, 1.7341711631719146, 1.8168157912710878, 1.8994604193702618, 1.982105047469435, 2.0647496755686086, 2.1473943036677827, 2.2300389317669556, 2.312683559866129, 2.395328187965303, 2.4779728160644763, 2.56061744416365, 2.6432620722628233, 2.725906700361997, 2.8085513284611707, 2.8911959565603444, 2.9738405846595177, 3.0564852127586914, 3.1391298408578643, 3.2217744689570385, 3.304419097056212, 3.3870637251553855, 3.4697083532545587, 3.552352981353733, 3.634997609452906, 3.71764223755208, 3.800286865651253, 3.8829314937504265, 3.9655761218496006, 4.048220749948775, 4.130865378047947, 4.213510006147121, 4.296154634246295, 4.378799262345468, 4.4614438904446425, 4.544088518543815, 4.626733146642988, 4.709377774742163, 4.7920224028413365, 4.874667030940509, 4.957311659039683, 5.039956287138857, 5.1226009152380305, 5.205245543337203, 5.287890171436377, 5.370534799535551, 5.453179427634724, 5.535824055733898, 5.618468683833071, 5.701113311932245, 5.783757940031419, 5.866402568130591, 5.949047196229765, 6.03169182432894, 6.1143364524281125, 6.196981080527285, 6.27962570862646, 6.362270336725634, 6.444914964824806, 6.527559592923981, 6.610204221023154, 6.692848849122326, 6.775493477221501, 6.858138105320674, 6.940782733419847, 7.0234273615190235, 7.106071989618186, 7.188716617717365, 7.271361245817503, 7.35400587390664, 7.436650502009723, 7.519295131063679, 7.601939749324435, 7.684584380290543, 7.767229954014146, 7.849864937559731, 7.932511420082675, 8.016092503058536, 8.089283585549643, 8.172799637823267, 9.182720036217674]\n",
      "\n",
      "Итерационное решение:\n",
      " [0.08114 0.16394 0.24657 0.32921 0.41186 0.4945  0.57715 0.65979 0.74244\n",
      " 0.82508 0.90772 0.99037 1.07301 1.15566 1.2383  1.32095 1.40359 1.48624\n",
      " 1.56888 1.65153 1.73417 1.81682 1.89946 1.98211 2.06475 2.14739 2.23004\n",
      " 2.31268 2.39533 2.47797 2.56062 2.64326 2.72591 2.80855 2.8912  2.97384\n",
      " 3.05649 3.13913 3.22177 3.30442 3.38706 3.46971 3.55235 3.635   3.71764\n",
      " 3.80029 3.88293 3.96558 4.04822 4.13087 4.21351 4.29615 4.3788  4.46144\n",
      " 4.54409 4.62673 4.70938 4.79202 4.87467 4.95731 5.03996 5.1226  5.20525\n",
      " 5.28789 5.37053 5.45318 5.53582 5.61847 5.70111 5.78376 5.8664  5.94905\n",
      " 6.03169 6.11434 6.19698 6.27963 6.36227 6.44491 6.52756 6.6102  6.69285\n",
      " 6.77549 6.85814 6.94078 7.02343 7.10607 7.18872 7.27136 7.35401 7.43665\n",
      " 7.5193  7.60194 7.68458 7.76723 7.84986 7.93251 8.01609 8.08928 8.1728\n",
      " 9.18272]\n"
     ]
    }
   ],
   "source": [
    "## результат решения, чтобы не листать в конец\n",
    "## перед выполнением текущей ячейки, запустить все последующие ячейки\\\n",
    "\n",
    "analit_solve = []\n",
    "iter_solve = SolveRelax (coef_matrix, right_side_vector)\n",
    "\n",
    "if (can_use_LU):\n",
    "    analit_solve = SolveLU (coef_matrix, right_side_vector)\n",
    "else:\n",
    "    analit_solve = SolveGauss (coef_matrix, right_side_vector)\n",
    "\n",
    "print (\"Неувязка для аналитического решения: \", GetHitch (coef_matrix, right_side_vector, analit_solve))\n",
    "print (\"Неувязка для итерационного решения: \",  GetHitch (coef_matrix, right_side_vector, iter_solve))\n",
    "print (\"Число обусловленности матрицы mu = \", GetMu (coef_matrix))\n",
    "print (\"lambda_max = \", GetLambdaMax (coef_matrix), \n",
    "     \"\\nlambda_min = \", GetLambdaMin (coef_matrix))\n",
    "\n",
    "print (\"\\n\\n\\n\")\n",
    "print (\"Аналитическое решение:\\n\", analit_solve)\n",
    "print (\"\\nИтерационное решение:\\n\", iter_solve)"
   ]
  },
  {
   "cell_type": "code",
   "execution_count": 14,
   "metadata": {},
   "outputs": [],
   "source": [
    "import numpy as np\n",
    "from copy import deepcopy\n",
    "np.set_printoptions(precision=5, suppress=True)"
   ]
  },
  {
   "cell_type": "markdown",
   "metadata": {},
   "source": [
    "## Генерация матрицы"
   ]
  },
  {
   "cell_type": "code",
   "execution_count": 15,
   "metadata": {},
   "outputs": [],
   "source": [
    "n = 100\n",
    "a = 10\n",
    "b = 10"
   ]
  },
  {
   "cell_type": "code",
   "execution_count": 16,
   "metadata": {},
   "outputs": [],
   "source": [
    "coef_matrix = np.zeros((n, n), dtype=np.float64)\n",
    "\n",
    "for line_num in range(n):    \n",
    "    coef_idx = line_num\n",
    "    \n",
    "    if coef_idx - 1 >= 0:\n",
    "        coef_matrix[line_num][coef_idx - 1] = 1\n",
    "    \n",
    "    coef_matrix[line_num][coef_idx] = a\n",
    "\n",
    "    if coef_idx + 1 < n:\n",
    "        coef_matrix[line_num][coef_idx + 1] = 1\n",
    "\n",
    "    if coef_idx + 2 < n:\n",
    "        coef_matrix[line_num][coef_idx + 2] = 1 / b\n",
    "\n",
    "# checks that's all is ok\n",
    "assert(np.all((coef_matrix[0] - ([10, 1, 0.1   ] + [0] * (n - 3))) == 0))\n",
    "assert(np.all((coef_matrix[1] - ([1, 10, 1, 0.1] + [0] * (n - 4))) == 0))\n",
    "\n",
    "assert(np.all(coef_matrix[-2] - ([0] * (n - 3) + [1, 10, 1]) == 0))\n",
    "assert(np.all(coef_matrix[-1] - ([0] * (n - 2) + [1, 10   ]) == 0))\n",
    "\n",
    "assert(coef_matrix[n // 2][n // 2 - 1] == 1.0)\n",
    "\n",
    "right_side_vector = np.array([i + 1 for i in range(n)], dtype=np.float64)"
   ]
  },
  {
   "cell_type": "markdown",
   "metadata": {},
   "source": [
    "## Функции для расчета неувязки"
   ]
  },
  {
   "cell_type": "code",
   "execution_count": 17,
   "metadata": {},
   "outputs": [],
   "source": [
    "def Norm3Vec (x):\n",
    "    return np.sqrt (np.sum (x * x))\n",
    "\n",
    "def Norm3Matr (matr):\n",
    "    w, v = np.linalg.eigh (matr)\n",
    "    return np.max (np.abs (w))\n",
    "\n",
    "def GetHitch (A, f, x):\n",
    "    return Norm3Vec (np.matmul (A, x) - f)\n",
    "\n",
    "def GetMu (A):\n",
    "    return Norm3Matr (A) * Norm3Matr (np.linalg.inv (A))\n",
    "\n",
    "def GetLambdaMax (matr):\n",
    "    w, v = np.linalg.eigh (matr)\n",
    "    return np.max (w)\n",
    "\n",
    "def GetLambdaMin (matr):\n",
    "    w, v = np.linalg.eigh (matr)\n",
    "    return np.min (w)"
   ]
  },
  {
   "cell_type": "markdown",
   "metadata": {},
   "source": [
    "## Методы решений"
   ]
  },
  {
   "cell_type": "code",
   "execution_count": 18,
   "metadata": {},
   "outputs": [
    {
     "name": "stdout",
     "output_type": "stream",
     "text": [
      "LU is possible\n"
     ]
    }
   ],
   "source": [
    "# Проверка применимости LU-разложения\n",
    "can_use_LU = True\n",
    "\n",
    "for i in range (n):\n",
    "    if (np.linalg.det ([A_j[0:(i+1)] for A_j in coef_matrix[0:(i+1)]]) == 0):\n",
    "        can_use_LU = False\n",
    "        \n",
    "print(f\"LU is { 'im' if not can_use_LU else ''}possible\")"
   ]
  },
  {
   "cell_type": "code",
   "execution_count": 19,
   "metadata": {},
   "outputs": [],
   "source": [
    "def SolveGauss(A, f):\n",
    "    A = deepcopy(A)\n",
    "    f = deepcopy(f)\n",
    "\n",
    "    for row_idx in range(num_equasions - 1):\n",
    "        max_elem_ind = FindMaxElemIdx(A, row_idx)\n",
    "\n",
    "        if (max_elem_ind != row_idx):\n",
    "            A[i], A[max_elem_ind] = deepcopy(A[max_elem_ind]), deepcopy (A[i])\n",
    "        \n",
    "        for j in range(i + 1, lenA):\n",
    "            coef = A[j][i] / A[i][i]\n",
    "            A[j] -= A[i] * coef\n",
    "            f[j] -= f[i] * coef\n",
    "\n",
    "        # For some reason the solution below gives too large error :(\n",
    "        # Thats doubly insulting bc I like it solutuion way more\n",
    "        #\n",
    "        # coefs = A[row_idx:, row_idx:]\n",
    "        # right_side_vector = f[row_idx:]\n",
    "        # max_element_col_idx = np.argmax(coefs[0])\n",
    "        # A[[row_idx, row_idx + max_element_col_idx], :] = A[[row_idx + max_element_col_idx, row_idx], :]\n",
    "        # \n",
    "        # multipliers = - coefs[ : , max_element_col_idx] / coefs[max_element_row_idx, max_element_row_idx]\n",
    "        # multipliers[max_element_col_idx] = 0\n",
    "        \n",
    "        # coefs += np.outer(multipliers, coefs[:, max_element_col_idx])\n",
    "        # right_side_vector +=  multipliers * right_side_vector[0]\n",
    "\n",
    "    return ReverseStrokeU(A, f)\n",
    "\n",
    "\n",
    "def FindMaxElemIdx(A, i_row):\n",
    "    max_elem_ind = i_row\n",
    "    for j in range (i_row + 1, len (A)):\n",
    "        if (abs (A[j][i_row]) > abs (A[max_elem_ind][i_row])):\n",
    "            max_elem_ind = j\n",
    "    return max_elem_ind\n",
    "\n"
   ]
  },
  {
   "cell_type": "code",
   "execution_count": 26,
   "metadata": {},
   "outputs": [],
   "source": [
    "def SolveLU (A_const, f_const):\n",
    "    lenA = len (A_const)\n",
    "    A = deepcopy (A_const)\n",
    "    f = deepcopy (f_const)\n",
    "    \n",
    "    L = [[0 for j in range (lenA)] for i in range (lenA)]\n",
    "    U = deepcopy (L)\n",
    "    for i in range (lenA):\n",
    "        L[i][i] = 1\n",
    "    \n",
    "    get_Uij = lambda i, j:  A[i][j] - sum ([L[i][k] * U[k][j] for k in range (i)])\n",
    "    get_Lij = lambda i, j: (A[i][j] - sum ([L[i][k] * U[k][j] for k in range (j)])) / U[j][j]\n",
    "    \n",
    "    for i in range (lenA):\n",
    "        for j in range (i):\n",
    "            L[i][j] = get_Lij (i, j)\n",
    "        \n",
    "        for j in range (i, lenA):\n",
    "            U[i][j] = get_Uij (i, j)\n",
    "            \n",
    "    # solve LY = f   \n",
    "    y = ReverseStrokeL (L, f)\n",
    "    # solve Ux = y\n",
    "    return ReverseStrokeU (U, y)"
   ]
  },
  {
   "cell_type": "code",
   "execution_count": 22,
   "metadata": {},
   "outputs": [],
   "source": [
    "def ReverseStrokeU (U, f):\n",
    "    lenU = len (U)\n",
    "    x = [0. for i in range (lenU)]\n",
    "    \n",
    "    for i in range (lenU - 1, -1, -1):\n",
    "        x_i = 0.\n",
    "        \n",
    "        for j in range (i + 1, lenU):\n",
    "            x_i += U[i][j] * x[j]\n",
    "        x[i] = (f[i] - x_i) / U[i][i]\n",
    "    \n",
    "    return x\n",
    "\n",
    "def ReverseStrokeL (L, f):\n",
    "    x = ReverseStrokeU (np.flip (L, (0, 1)), np.flip (f))\n",
    "    return np.flip (x)"
   ]
  },
  {
   "cell_type": "code",
   "execution_count": 23,
   "metadata": {},
   "outputs": [],
   "source": [
    "def SolveRelax (A, f):\n",
    "    lenA = len (A)\n",
    "    w    = 1.726\n",
    "    x_0  = np.linspace (0, 2, lenA) # random\n",
    "    EPS  = 1e-6\n",
    "    \n",
    "    L = np.array ([[0. for j in range (lenA)] for i in range (lenA)])\n",
    "    D = deepcopy (L)\n",
    "    U = deepcopy (L)\n",
    "    \n",
    "    for i in range (lenA):\n",
    "        for j in range (lenA):\n",
    "            if (j > i):\n",
    "                U[i][j] = A[i][j]\n",
    "            elif (j < i):\n",
    "                L[i][j] = A[i][j]\n",
    "            elif (j == i):\n",
    "                D[i][j] = A[i][j]\n",
    "    \n",
    "    for i in range (lenA):\n",
    "        for j in range (lenA):\n",
    "            test = np.abs (U[i][j] + L[i][j] + D[i][j] - A[i][j])\n",
    "            if (test != 0):\n",
    "                print (i, j, U[i][j], L[i][j], D[i][j], A[i][j])\n",
    "                \n",
    "    D_wL_pow_m1 = np.linalg.inv (D + w * L)\n",
    "    wm1_D_wU    = (w - 1) * D + w * U\n",
    "    \n",
    "    coef_before_x = -np.matmul (D_wL_pow_m1, wm1_D_wU)\n",
    "    coef_free     = w * np.matmul (D_wL_pow_m1, f)\n",
    "    \n",
    "    do_iter = lambda x: np.matmul (coef_before_x, x) + coef_free\n",
    "\n",
    "    x = x_0\n",
    "    while (np.abs (GetHitch (A, f, x)) > EPS):\n",
    "        x = do_iter (x)\n",
    "        \n",
    "    return x"
   ]
  },
  {
   "cell_type": "code",
   "execution_count": null,
   "metadata": {},
   "outputs": [],
   "source": []
  }
 ],
 "metadata": {
  "kernelspec": {
   "display_name": "Python 3",
   "language": "python",
   "name": "python3"
  },
  "language_info": {
   "codemirror_mode": {
    "name": "ipython",
    "version": 3
   },
   "file_extension": ".py",
   "mimetype": "text/x-python",
   "name": "python",
   "nbconvert_exporter": "python",
   "pygments_lexer": "ipython3",
   "version": "3.10.12"
  }
 },
 "nbformat": 4,
 "nbformat_minor": 2
}
