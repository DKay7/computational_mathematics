{
 "cells": [
  {
   "cell_type": "markdown",
   "metadata": {},
   "source": [
    "# Лабороторная работа №3\n",
    "\n",
    "Задания 12.4(з) и 12.5(в)"
   ]
  },
  {
   "cell_type": "code",
   "execution_count": 37,
   "metadata": {},
   "outputs": [
    {
     "name": "stdout",
     "output_type": "stream",
     "text": [
      "#Task 1:\n",
      "Root of equation in [0; 0.5]: x_0 =  0.7275144767582377\n",
      "function value: f(x_0)=  4.440892098500626e-16\n",
      "\n",
      "#Task 2:\n",
      "Roots of equation are:\n",
      "X=[3.35591174 1.20690682]\n",
      "\n",
      "function value:\n",
      "f(X)=[1.74349111 0.77266807]\n",
      "\n"
     ]
    }
   ],
   "source": [
    "# Резльутаты лабы. Сначала нужно выполнить все ячейки ниже\n",
    "print(\"#Task 1:\")\n",
    "PrintResultForTask1()\n",
    "print(\"\\n#Task 2:\")\n",
    "PrintResultForTask2()"
   ]
  },
  {
   "cell_type": "code",
   "execution_count": 2,
   "metadata": {},
   "outputs": [],
   "source": [
    "import numpy as np\n",
    "import matplotlib.pyplot as plt\n",
    "from IPython.display import set_matplotlib_formats"
   ]
  },
  {
   "cell_type": "markdown",
   "metadata": {},
   "source": [
    "### Задание 12.4(з):\n",
    "Отделить корни следующих уравнений, а затем уточнить один\n",
    "из них с помощью подходящего итерационно процесса\n",
    "\n",
    "з) $2\\lg(x) - \\dfrac{x}{2} + 1 = 0$"
   ]
  },
  {
   "cell_type": "code",
   "execution_count": 8,
   "metadata": {},
   "outputs": [],
   "source": [
    "EPS = 1e-15"
   ]
  },
  {
   "cell_type": "code",
   "execution_count": 9,
   "metadata": {},
   "outputs": [
    {
     "data": {
      "text/plain": [
       "[<matplotlib.lines.Line2D at 0x7fc211e1a9b0>]"
      ]
     },
     "execution_count": 9,
     "metadata": {},
     "output_type": "execute_result"
    },
    {
     "data": {
      "image/png": "[encoded data removed]",
      "text/plain": [
       "<Figure size 640x480 with 1 Axes>"
      ]
     },
     "metadata": {},
     "output_type": "display_data"
    }
   ],
   "source": [
    "# f(x) = 0\n",
    "f = lambda x: 2 * np.log (x) - x / 2 + 1\n",
    "\n",
    "# F(x) = x\n",
    "F = lambda x: np.exp ((x / 2 - 1) / 2)\n",
    "\n",
    "# F'(x)\n",
    "F_der = lambda x: np.exp ((x / 2 - 1) / 2) / 4\n",
    "\n",
    "# Корень на интервале [0.5, 1]. Проверим на этом же интервале значение производной:\n",
    "interval = np.linspace(0.5, 1, 100)\n",
    "derivative_values = F_der(inetrval)\n",
    "plt.plot(interval, derivative_values)\n",
    "\n"
   ]
  },
  {
   "cell_type": "markdown",
   "metadata": {},
   "source": [
    "Значение производной меньше 1 на интервале --> метод сходится\n",
    "\n",
    "Найдем корень, начнем с точки 0.75\n"
   ]
  },
  {
   "cell_type": "code",
   "execution_count": 17,
   "metadata": {},
   "outputs": [],
   "source": [
    "def GetRootMSI (eps = EPS):\n",
    "    x_prev = 10\n",
    "    x = 0.75\n",
    "    while np.abs (x - x_prev) >= eps:\n",
    "        x_prev = x\n",
    "        x = F (x_prev)\n",
    "    \n",
    "    return x"
   ]
  },
  {
   "cell_type": "code",
   "execution_count": 20,
   "metadata": {},
   "outputs": [],
   "source": [
    "def PrintResultForTask1():\n",
    "    x = GetRootMSI()\n",
    "    print (\"Root of equation in [0; 0.5]: x_0 = \", x)\n",
    "    print (\"function value: f(x_0)= \", f(x))\n"
   ]
  },
  {
   "cell_type": "markdown",
   "metadata": {},
   "source": [
    "### Задание 12.5(в)\n",
    "\n",
    "в) $  \\begin{cases}  cos (x - 1) + y = 0.5 \\\\ x - cos y = 3  \\end{cases} $\n",
    "\n",
    "Примерное значение корня x = 3, y = 1"
   ]
  },
  {
   "cell_type": "code",
   "execution_count": 23,
   "metadata": {},
   "outputs": [],
   "source": [
    "EPS = 1e-3"
   ]
  },
  {
   "cell_type": "code",
   "execution_count": 25,
   "metadata": {},
   "outputs": [],
   "source": [
    "# F(x):\n",
    "F2 = lambda x: np.array ([np.cos (x[0] - 1) + x[1] - 0.5, x[0] - np.cos (x[1]) - 3])\n",
    "\n",
    "# F'(x):\n",
    "\n",
    "def F2_der(x):\n",
    "    res = np.zeros ((2, 2))\n",
    "\n",
    "    res[0, 0] = -np.sin (x[0] - 1)\n",
    "    res[0, 1] = 1\n",
    "    res[1, 0] = 1\n",
    "    res[1, 1] = np.sin (x[1])\n",
    "\n",
    "    return res"
   ]
  },
  {
   "cell_type": "code",
   "execution_count": 30,
   "metadata": {},
   "outputs": [],
   "source": [
    "\n",
    "def GetRootNewton(eps = EPS):\n",
    "    x_prev = np.array ([10.0, 10.0])\n",
    "    x = np.array ([3, 1])\n",
    "\n",
    "    while np.linalg.norm (x - x_prev) >= eps:\n",
    "        x_prev = x\n",
    "        x = x_prev - np.matmul (np.linalg.inv (F2_der(x)), F2(x)) \n",
    "    \n",
    "    return x"
   ]
  },
  {
   "cell_type": "code",
   "execution_count": 31,
   "metadata": {},
   "outputs": [],
   "source": [
    "def PrintResultForTask2():\n",
    "    X = GetRootNewton()\n",
    "\n",
    "    print (f\"Roots of equation are:\\nX={X}\\n\")\n",
    "    print (f\"function value:\\nf(X)={f(X)}\\n\", )\n"
   ]
  },
  {
   "cell_type": "code",
   "execution_count": null,
   "metadata": {},
   "outputs": [],
   "source": []
  }
 ],
 "metadata": {
  "kernelspec": {
   "display_name": "Python 3",
   "language": "python",
   "name": "python3"
  },
  "language_info": {
   "codemirror_mode": {
    "name": "ipython",
    "version": 3
   },
   "file_extension": ".py",
   "mimetype": "text/x-python",
   "name": "python",
   "nbconvert_exporter": "python",
   "pygments_lexer": "ipython3",
   "version": "3.10.12"
  }
 },
 "nbformat": 4,
 "nbformat_minor": 2
}
