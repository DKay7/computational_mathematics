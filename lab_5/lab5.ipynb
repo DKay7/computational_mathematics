{
 "cells": [
  {
   "cell_type": "markdown",
   "id": "9809a7a1",
   "metadata": {},
   "source": [
    "\n",
    "# Лабороторная работа №5\n",
    "\n",
    "Заданиe VII.9.5.(д)\n",
    "\n"
   ]
  },
  {
   "cell_type": "code",
   "execution_count": 20,
   "id": "5fd88c0f",
   "metadata": {},
   "outputs": [
    {
     "name": "stdout",
     "output_type": "stream",
     "text": [
      "I_h = 0.3711273750; eps = 5.2910662199 %\n",
      "I_R = 0.3834582500; eps = 2.1443190315 %\n",
      "I_S = 0.3834582500; eps = 2.1443190315 %\n"
     ]
    }
   ],
   "source": [
    "# Резльутаты лабы. Сначала нужно выполнить все ячейки ниже\n",
    "PrintResult (x, f)"
   ]
  },
  {
   "cell_type": "code",
   "execution_count": 1,
   "id": "c91a76f2",
   "metadata": {},
   "outputs": [],
   "source": [
    "import numpy as np"
   ]
  },
  {
   "cell_type": "code",
   "execution_count": 2,
   "id": "89c195a0",
   "metadata": {},
   "outputs": [],
   "source": [
    "x = np.linspace (0, 1, 9)\n",
    "f = np.array ([0, 0.124670, 0.247234, 0.364902, 0.473112, 0.563209, 0.616193, 0.579699, 0])"
   ]
  },
  {
   "cell_type": "code",
   "execution_count": 14,
   "id": "dcc2fe7f",
   "metadata": {},
   "outputs": [],
   "source": [
    "def GetTrapezoidInt (x, f, stepping = 1):\n",
    "    h = x[1] - x[0]\n",
    "    if stepping == 1:\n",
    "        return h / 2 * (2 * np.sum (f) - f[0] - f[-1])\n",
    "    else:\n",
    "        return stepping * h / 2 * (2 * np.sum (f[0:-1:stepping]) - f[0] - f[(len(f) - 1) // stepping * stepping])\n",
    "\n",
    "def GetRichardsonInt (x, f):\n",
    "    h = x[1] - x[0]\n",
    "    p = 2\n",
    "    r = 2\n",
    "    I_h  = GetTrapezoidInt (x, f)\n",
    "    I_2h = GetTrapezoidInt (x, f, 2)\n",
    "    \n",
    "    return I_h + (I_h - I_2h) / (np.power (r, p) - 1)\n",
    "    \n",
    "def GetSimpsonInt (x, f):\n",
    "    h = x[1] - x[0]\n",
    "    \n",
    "    coef_2 = 2 * np.sum (f[2:-1:2])\n",
    "    coef_4 = 4 * np.sum (f[1:-1:2])\n",
    "    \n",
    "    return h / 3 * (f[0] + f[-1] + coef_2 + coef_4)"
   ]
  },
  {
   "cell_type": "code",
   "execution_count": 19,
   "id": "cd596632",
   "metadata": {},
   "outputs": [],
   "source": [
    "wolfram_answer = 0.391861\n",
    "\n",
    "def PrintResult (x, f):\n",
    "    I_h = GetTrapezoidInt (x, f)\n",
    "    I_R = GetRichardsonInt (x, f)\n",
    "    I_S = GetSimpsonInt (x, f)\n",
    "    \n",
    "    eps = lambda x: np.abs(x - wolfram_answer) / wolfram_answer * 100\n",
    "\n",
    "    print (f\"I_h = {I_h:.10f}; eps = {eps(I_h):.10f} %\")\n",
    "    print (f\"I_R = {I_R:.10f}; eps = {eps(I_R):.10f} %\")\n",
    "    print (f\"I_S = {I_S:.10f}; eps = {eps(I_S):.10f} %\")"
   ]
  },
  {
   "cell_type": "code",
   "execution_count": null,
   "metadata": {},
   "outputs": [],
   "source": []
  },
  {
   "cell_type": "code",
   "execution_count": null,
   "metadata": {},
   "outputs": [],
   "source": []
  }
 ],
 "metadata": {
  "kernelspec": {
   "display_name": "Python 3 (ipykernel)",
   "language": "python",
   "name": "python3"
  },
  "language_info": {
   "codemirror_mode": {
    "name": "ipython",
    "version": 3
   },
   "file_extension": ".py",
   "mimetype": "text/x-python",
   "name": "python",
   "nbconvert_exporter": "python",
   "pygments_lexer": "ipython3",
   "version": "3.10.12"
  }
 },
 "nbformat": 4,
 "nbformat_minor": 5
}
